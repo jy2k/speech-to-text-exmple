{
 "cells": [
  {
   "cell_type": "code",
   "execution_count": 1,
   "id": "about-oracle",
   "metadata": {
    "collapsed": true,
    "jupyter": {
     "outputs_hidden": true
    },
    "tags": []
   },
   "outputs": [
    {
     "name": "stdout",
     "output_type": "stream",
     "text": [
      "Collecting google-cloud-speech\n",
      "\u001b[?25l  Downloading https://files.pythonhosted.org/packages/e6/d5/664cd3597cf3991f67d213f8e0b14c263c971af4bc806454c583f637e2a3/google_cloud_speech-2.0.1-py2.py3-none-any.whl (108kB)\n",
      "\u001b[K     |████████████████████████████████| 112kB 821kB/s eta 0:00:01\n",
      "\u001b[?25hCollecting google-api-core[grpc]<2.0.0dev,>=1.22.2 (from google-cloud-speech)\n",
      "\u001b[?25l  Downloading https://files.pythonhosted.org/packages/c8/3f/f7faa8a96408167c03d6fe07e2bee9b383ec18a7a1117d32912eb0c1b78f/google_api_core-1.26.0-py2.py3-none-any.whl (92kB)\n",
      "\u001b[K     |████████████████████████████████| 102kB 1.4MB/s ta 0:00:01\n",
      "\u001b[?25hCollecting libcst>=0.2.5 (from google-cloud-speech)\n",
      "\u001b[?25l  Downloading https://files.pythonhosted.org/packages/1c/55/8c1e2f7edf2c15baf3e0cccfcd338ac8a3e4c52fb35d6f9ff55bb5a453df/libcst-0.3.17-py3-none-any.whl (507kB)\n",
      "\u001b[K     |████████████████████████████████| 512kB 1.4MB/s eta 0:00:01\n",
      "\u001b[?25hCollecting proto-plus>=1.4.0 (from google-cloud-speech)\n",
      "\u001b[?25l  Downloading https://files.pythonhosted.org/packages/e8/e0/59ad1e6a7d62259027e9b48aedfc95ba63f9336b803d1b174769bcb2c7f9/proto-plus-1.13.0.tar.gz (44kB)\n",
      "\u001b[K     |████████████████████████████████| 51kB 3.5MB/s eta 0:00:01\n",
      "\u001b[?25hRequirement already satisfied, skipping upgrade: packaging>=14.3 in ./venv/lib/python3.8/site-packages (from google-api-core[grpc]<2.0.0dev,>=1.22.2->google-cloud-speech) (20.9)\n",
      "Requirement already satisfied, skipping upgrade: six>=1.13.0 in ./venv/lib/python3.8/site-packages (from google-api-core[grpc]<2.0.0dev,>=1.22.2->google-cloud-speech) (1.15.0)\n",
      "Collecting google-auth<2.0dev,>=1.21.1 (from google-api-core[grpc]<2.0.0dev,>=1.22.2->google-cloud-speech)\n",
      "\u001b[?25l  Downloading https://files.pythonhosted.org/packages/bf/6b/a364a4ad2a9d25904a19f53b9474ae9666b96e0653a6ca38492baf1bcf05/google_auth-1.27.0-py2.py3-none-any.whl (135kB)\n",
      "\u001b[K     |████████████████████████████████| 143kB 1.4MB/s eta 0:00:01\n",
      "\u001b[?25hCollecting protobuf>=3.12.0 (from google-api-core[grpc]<2.0.0dev,>=1.22.2->google-cloud-speech)\n",
      "\u001b[?25l  Downloading https://files.pythonhosted.org/packages/74/60/fa0b36cedb9232ce822fcfda927128d68f2becb44e5a0f7d0f240275010b/protobuf-3.15.1-cp38-cp38-macosx_10_9_x86_64.whl (1.0MB)\n",
      "\u001b[K     |████████████████████████████████| 1.0MB 887kB/s eta 0:00:01\n",
      "\u001b[?25hCollecting googleapis-common-protos<2.0dev,>=1.6.0 (from google-api-core[grpc]<2.0.0dev,>=1.22.2->google-cloud-speech)\n",
      "  Using cached https://files.pythonhosted.org/packages/03/74/3956721ea1eb4bcf7502a311fdaa60b85bd751de4e57d1943afe9b334141/googleapis_common_protos-1.52.0-py2.py3-none-any.whl\n",
      "Requirement already satisfied, skipping upgrade: requests<3.0.0dev,>=2.18.0 in ./venv/lib/python3.8/site-packages (from google-api-core[grpc]<2.0.0dev,>=1.22.2->google-cloud-speech) (2.25.1)\n",
      "Requirement already satisfied, skipping upgrade: setuptools>=40.3.0 in ./venv/lib/python3.8/site-packages (from google-api-core[grpc]<2.0.0dev,>=1.22.2->google-cloud-speech) (41.2.0)\n",
      "Requirement already satisfied, skipping upgrade: pytz in ./venv/lib/python3.8/site-packages (from google-api-core[grpc]<2.0.0dev,>=1.22.2->google-cloud-speech) (2021.1)\n",
      "Collecting grpcio<2.0dev,>=1.29.0; extra == \"grpc\" (from google-api-core[grpc]<2.0.0dev,>=1.22.2->google-cloud-speech)\n",
      "\u001b[?25l  Downloading https://files.pythonhosted.org/packages/ed/52/843e12f12cecb17e791f0ba544aaa21dee013ff423dae4c3cec00d8ad153/grpcio-1.35.0-cp38-cp38-macosx_10_10_x86_64.whl (3.8MB)\n",
      "\u001b[K     |████████████████████████████████| 3.8MB 845kB/s eta 0:00:01\n",
      "\u001b[?25hCollecting pyyaml>=5.2 (from libcst>=0.2.5->google-cloud-speech)\n",
      "  Using cached https://files.pythonhosted.org/packages/cb/3f/2f35751408c0b2a425aa48dd79301a48418858d3366f84c75d1aa42b6e2d/PyYAML-5.4.1-cp38-cp38-macosx_10_9_x86_64.whl\n",
      "Collecting typing-inspect>=0.4.0 (from libcst>=0.2.5->google-cloud-speech)\n",
      "  Downloading https://files.pythonhosted.org/packages/42/1c/66402db44184904a2f14722d317a4da0b5c8c78acfc3faf74362566635c5/typing_inspect-0.6.0-py3-none-any.whl\n",
      "Collecting typing-extensions>=3.7.4.2 (from libcst>=0.2.5->google-cloud-speech)\n",
      "  Downloading https://files.pythonhosted.org/packages/60/7a/e881b5abb54db0e6e671ab088d079c57ce54e8a01a3ca443f561ccadb37e/typing_extensions-3.7.4.3-py3-none-any.whl\n",
      "Requirement already satisfied, skipping upgrade: pyparsing>=2.0.2 in ./venv/lib/python3.8/site-packages (from packaging>=14.3->google-api-core[grpc]<2.0.0dev,>=1.22.2->google-cloud-speech) (2.4.7)\n",
      "Collecting rsa<5,>=3.1.4; python_version >= \"3.6\" (from google-auth<2.0dev,>=1.21.1->google-api-core[grpc]<2.0.0dev,>=1.22.2->google-cloud-speech)\n",
      "  Downloading https://files.pythonhosted.org/packages/a0/c6/f6f92e055213860a39c98e51a10a51af473bc799a889fe8edac11108245b/rsa-4.7.1-py3-none-any.whl\n",
      "Collecting pyasn1-modules>=0.2.1 (from google-auth<2.0dev,>=1.21.1->google-api-core[grpc]<2.0.0dev,>=1.22.2->google-cloud-speech)\n",
      "  Using cached https://files.pythonhosted.org/packages/95/de/214830a981892a3e286c3794f41ae67a4495df1108c3da8a9f62159b9a9d/pyasn1_modules-0.2.8-py2.py3-none-any.whl\n",
      "Collecting cachetools<5.0,>=2.0.0 (from google-auth<2.0dev,>=1.21.1->google-api-core[grpc]<2.0.0dev,>=1.22.2->google-cloud-speech)\n",
      "  Using cached https://files.pythonhosted.org/packages/bb/72/8df2e0dc991f1a1d2c6869404e7622e8ee50d80bff357dbb57c3df70305b/cachetools-4.2.1-py3-none-any.whl\n",
      "Requirement already satisfied, skipping upgrade: idna<3,>=2.5 in ./venv/lib/python3.8/site-packages (from requests<3.0.0dev,>=2.18.0->google-api-core[grpc]<2.0.0dev,>=1.22.2->google-cloud-speech) (2.10)\n",
      "Requirement already satisfied, skipping upgrade: chardet<5,>=3.0.2 in ./venv/lib/python3.8/site-packages (from requests<3.0.0dev,>=2.18.0->google-api-core[grpc]<2.0.0dev,>=1.22.2->google-cloud-speech) (4.0.0)\n",
      "Requirement already satisfied, skipping upgrade: urllib3<1.27,>=1.21.1 in ./venv/lib/python3.8/site-packages (from requests<3.0.0dev,>=2.18.0->google-api-core[grpc]<2.0.0dev,>=1.22.2->google-cloud-speech) (1.26.3)\n",
      "Requirement already satisfied, skipping upgrade: certifi>=2017.4.17 in ./venv/lib/python3.8/site-packages (from requests<3.0.0dev,>=2.18.0->google-api-core[grpc]<2.0.0dev,>=1.22.2->google-cloud-speech) (2020.12.5)\n",
      "Collecting mypy-extensions>=0.3.0 (from typing-inspect>=0.4.0->libcst>=0.2.5->google-cloud-speech)\n",
      "  Downloading https://files.pythonhosted.org/packages/5c/eb/975c7c080f3223a5cdaff09612f3a5221e4ba534f7039db34c35d95fa6a5/mypy_extensions-0.4.3-py2.py3-none-any.whl\n",
      "Collecting pyasn1>=0.1.3 (from rsa<5,>=3.1.4; python_version >= \"3.6\"->google-auth<2.0dev,>=1.21.1->google-api-core[grpc]<2.0.0dev,>=1.22.2->google-cloud-speech)\n",
      "  Using cached https://files.pythonhosted.org/packages/62/1e/a94a8d635fa3ce4cfc7f506003548d0a2447ae76fd5ca53932970fe3053f/pyasn1-0.4.8-py2.py3-none-any.whl\n",
      "Installing collected packages: pyasn1, rsa, pyasn1-modules, cachetools, google-auth, protobuf, googleapis-common-protos, grpcio, google-api-core, pyyaml, mypy-extensions, typing-extensions, typing-inspect, libcst, proto-plus, google-cloud-speech\n",
      "  Running setup.py install for proto-plus ... \u001b[?25ldone\n",
      "\u001b[?25hSuccessfully installed cachetools-4.2.1 google-api-core-1.26.0 google-auth-1.27.0 google-cloud-speech-2.0.1 googleapis-common-protos-1.52.0 grpcio-1.35.0 libcst-0.3.17 mypy-extensions-0.4.3 proto-plus-1.13.0 protobuf-3.15.1 pyasn1-0.4.8 pyasn1-modules-0.2.8 pyyaml-5.4.1 rsa-4.7.1 typing-extensions-3.7.4.3 typing-inspect-0.6.0\n",
      "\u001b[33mWARNING: You are using pip version 19.2.3, however version 21.0.1 is available.\n",
      "You should consider upgrading via the 'pip install --upgrade pip' command.\u001b[0m\n"
     ]
    }
   ],
   "source": [
    "!pip install --upgrade google-cloud-speech"
   ]
  },
  {
   "cell_type": "code",
   "execution_count": 64,
   "id": "dominican-nomination",
   "metadata": {
    "collapsed": true,
    "jupyter": {
     "outputs_hidden": true
    },
    "tags": []
   },
   "outputs": [
    {
     "name": "stdout",
     "output_type": "stream",
     "text": [
      "Collecting google-cloud-storage\n",
      "\u001b[?25l  Downloading https://files.pythonhosted.org/packages/c0/42/2aaf642fb78d00b002d84ecaa714d394cc8ea10a20bb94d1b797c976171f/google_cloud_storage-1.36.0-py2.py3-none-any.whl (97kB)\n",
      "\u001b[K     |████████████████████████████████| 102kB 1.1MB/s ta 0:00:01\n",
      "\u001b[?25hRequirement already satisfied, skipping upgrade: google-auth<2.0dev,>=1.11.0 in ./venv/lib/python3.8/site-packages (from google-cloud-storage) (1.27.0)\n",
      "Collecting google-resumable-media<2.0dev,>=1.2.0 (from google-cloud-storage)\n",
      "  Using cached https://files.pythonhosted.org/packages/22/52/4b086e0d15245b648e2b6d408fb2f2974a3a5a405de5d7fae25cd085a3fa/google_resumable_media-1.2.0-py2.py3-none-any.whl\n",
      "Collecting google-cloud-core<2.0dev,>=1.4.1 (from google-cloud-storage)\n",
      "  Using cached https://files.pythonhosted.org/packages/ad/fc/6e8c449185cb8862af353c1164100ff75e32d55ba1de3baf9eaa01b7d2a9/google_cloud_core-1.6.0-py2.py3-none-any.whl\n",
      "Requirement already satisfied, skipping upgrade: requests<3.0.0dev,>=2.18.0 in ./venv/lib/python3.8/site-packages (from google-cloud-storage) (2.25.1)\n",
      "Requirement already satisfied, skipping upgrade: six>=1.9.0 in ./venv/lib/python3.8/site-packages (from google-auth<2.0dev,>=1.11.0->google-cloud-storage) (1.15.0)\n",
      "Requirement already satisfied, skipping upgrade: cachetools<5.0,>=2.0.0 in ./venv/lib/python3.8/site-packages (from google-auth<2.0dev,>=1.11.0->google-cloud-storage) (4.2.1)\n",
      "Requirement already satisfied, skipping upgrade: rsa<5,>=3.1.4; python_version >= \"3.6\" in ./venv/lib/python3.8/site-packages (from google-auth<2.0dev,>=1.11.0->google-cloud-storage) (4.7.1)\n",
      "Requirement already satisfied, skipping upgrade: pyasn1-modules>=0.2.1 in ./venv/lib/python3.8/site-packages (from google-auth<2.0dev,>=1.11.0->google-cloud-storage) (0.2.8)\n",
      "Requirement already satisfied, skipping upgrade: setuptools>=40.3.0 in ./venv/lib/python3.8/site-packages (from google-auth<2.0dev,>=1.11.0->google-cloud-storage) (41.2.0)\n",
      "Collecting google-crc32c<2.0dev,>=1.0; python_version >= \"3.5\" (from google-resumable-media<2.0dev,>=1.2.0->google-cloud-storage)\n",
      "  Using cached https://files.pythonhosted.org/packages/f7/d8/4b5b7c93b38cf7bed500830bb4b3ba116f6f9b966c14c636f12c56f6cd37/google_crc32c-1.1.2-cp38-cp38-macosx_10_14_x86_64.whl\n",
      "Requirement already satisfied, skipping upgrade: google-api-core<2.0.0dev,>=1.21.0 in ./venv/lib/python3.8/site-packages (from google-cloud-core<2.0dev,>=1.4.1->google-cloud-storage) (1.26.0)\n",
      "Requirement already satisfied, skipping upgrade: chardet<5,>=3.0.2 in ./venv/lib/python3.8/site-packages (from requests<3.0.0dev,>=2.18.0->google-cloud-storage) (4.0.0)\n",
      "Requirement already satisfied, skipping upgrade: urllib3<1.27,>=1.21.1 in ./venv/lib/python3.8/site-packages (from requests<3.0.0dev,>=2.18.0->google-cloud-storage) (1.26.3)\n",
      "Requirement already satisfied, skipping upgrade: idna<3,>=2.5 in ./venv/lib/python3.8/site-packages (from requests<3.0.0dev,>=2.18.0->google-cloud-storage) (2.10)\n",
      "Requirement already satisfied, skipping upgrade: certifi>=2017.4.17 in ./venv/lib/python3.8/site-packages (from requests<3.0.0dev,>=2.18.0->google-cloud-storage) (2020.12.5)\n",
      "Requirement already satisfied, skipping upgrade: pyasn1>=0.1.3 in ./venv/lib/python3.8/site-packages (from rsa<5,>=3.1.4; python_version >= \"3.6\"->google-auth<2.0dev,>=1.11.0->google-cloud-storage) (0.4.8)\n",
      "Requirement already satisfied, skipping upgrade: cffi>=1.0.0 in ./venv/lib/python3.8/site-packages (from google-crc32c<2.0dev,>=1.0; python_version >= \"3.5\"->google-resumable-media<2.0dev,>=1.2.0->google-cloud-storage) (1.14.5)\n",
      "Requirement already satisfied, skipping upgrade: googleapis-common-protos<2.0dev,>=1.6.0 in ./venv/lib/python3.8/site-packages (from google-api-core<2.0.0dev,>=1.21.0->google-cloud-core<2.0dev,>=1.4.1->google-cloud-storage) (1.52.0)\n",
      "Requirement already satisfied, skipping upgrade: packaging>=14.3 in ./venv/lib/python3.8/site-packages (from google-api-core<2.0.0dev,>=1.21.0->google-cloud-core<2.0dev,>=1.4.1->google-cloud-storage) (20.9)\n",
      "Requirement already satisfied, skipping upgrade: pytz in ./venv/lib/python3.8/site-packages (from google-api-core<2.0.0dev,>=1.21.0->google-cloud-core<2.0dev,>=1.4.1->google-cloud-storage) (2021.1)\n",
      "Requirement already satisfied, skipping upgrade: protobuf>=3.12.0 in ./venv/lib/python3.8/site-packages (from google-api-core<2.0.0dev,>=1.21.0->google-cloud-core<2.0dev,>=1.4.1->google-cloud-storage) (3.15.1)\n",
      "Requirement already satisfied, skipping upgrade: pycparser in ./venv/lib/python3.8/site-packages (from cffi>=1.0.0->google-crc32c<2.0dev,>=1.0; python_version >= \"3.5\"->google-resumable-media<2.0dev,>=1.2.0->google-cloud-storage) (2.20)\n",
      "Requirement already satisfied, skipping upgrade: pyparsing>=2.0.2 in ./venv/lib/python3.8/site-packages (from packaging>=14.3->google-api-core<2.0.0dev,>=1.21.0->google-cloud-core<2.0dev,>=1.4.1->google-cloud-storage) (2.4.7)\n",
      "Installing collected packages: google-crc32c, google-resumable-media, google-cloud-core, google-cloud-storage\n",
      "Successfully installed google-cloud-core-1.6.0 google-cloud-storage-1.36.0 google-crc32c-1.1.2 google-resumable-media-1.2.0\n",
      "\u001b[33mWARNING: You are using pip version 19.2.3, however version 21.0.1 is available.\n",
      "You should consider upgrading via the 'pip install --upgrade pip' command.\u001b[0m\n"
     ]
    }
   ],
   "source": [
    "!pip install --upgrade google-cloud-storage"
   ]
  },
  {
   "cell_type": "code",
   "execution_count": 52,
   "id": "minimal-secondary",
   "metadata": {
    "tags": []
   },
   "outputs": [
    {
     "name": "stdout",
     "output_type": "stream",
     "text": [
      "If this is the first time you are using the API in the project please enable the API via this link:\n",
      "https://console.developers.google.com/apis/api/speech.googleapis.com/overview?project=your-project-id\n"
     ]
    }
   ],
   "source": [
    "PROJECT_ID = 'your-project-id'  # <---CHANGE THIS\n",
    "var = \"https://console.developers.google.com/apis/api/speech.googleapis.com/overview?project=\"+PROJECT_ID\n",
    "print(\"If this is the first time you are using the API in the project please enable the API via this link:\\n\"+ var)"
   ]
  },
  {
   "cell_type": "markdown",
   "id": "parliamentary-iceland",
   "metadata": {},
   "source": [
    "# Make sure to enable the API\n",
    "<img src=\"enable-api.png\" width=\"800\">"
   ]
  },
  {
   "cell_type": "code",
   "execution_count": 29,
   "id": "future-nursery",
   "metadata": {},
   "outputs": [],
   "source": [
    "!export GOOGLE_APPLICATION_CREDENTIALS=\"/AutoMLdemo-64ae368c71e2.json\""
   ]
  },
  {
   "cell_type": "code",
   "execution_count": 30,
   "id": "palestinian-light",
   "metadata": {},
   "outputs": [
    {
     "data": {
      "text/plain": [
       "'AutoMLdemo-64ae368c71e2.json'"
      ]
     },
     "execution_count": 30,
     "metadata": {},
     "output_type": "execute_result"
    }
   ],
   "source": [
    "GOOGLE_APPLICATION_CREDENTIALS"
   ]
  },
  {
   "cell_type": "code",
   "execution_count": 35,
   "id": "whole-audit",
   "metadata": {},
   "outputs": [
    {
     "name": "stdout",
     "output_type": "stream",
     "text": [
      "AutoMLdemo-64ae368c71e2.json\n"
     ]
    }
   ],
   "source": [
    "import os\n",
    "os.environ[\"GOOGLE_APPLICATION_CREDENTIALS\"]=\"AutoMLdemo-64ae368c71e2.json\"\n",
    "print(os.environ['GOOGLE_APPLICATION_CREDENTIALS'])"
   ]
  },
  {
   "cell_type": "code",
   "execution_count": 66,
   "id": "dramatic-burke",
   "metadata": {},
   "outputs": [
    {
     "name": "stdout",
     "output_type": "stream",
     "text": [
      "Bucket test-bucket-speech-n created.\n"
     ]
    }
   ],
   "source": [
    "# Imports the Google Cloud client library\n",
    "from google.cloud import storage\n",
    "\n",
    "# Instantiates a client\n",
    "storage_client = storage.Client()\n",
    "\n",
    "# The name for the new bucket\n",
    "bucket_name = \"test-bucket-speech-n\"\n",
    "\n",
    "# Creates the new bucket\n",
    "bucket = storage_client.create_bucket(bucket_name)\n",
    "\n",
    "print(\"Bucket {} created.\".format(bucket.name))"
   ]
  },
  {
   "cell_type": "code",
   "execution_count": 67,
   "id": "directed-memphis",
   "metadata": {},
   "outputs": [
    {
     "name": "stdout",
     "output_type": "stream",
     "text": [
      "File Armstrong_Small_Step.ogg.mp3 uploaded to Armstrong_Small_Step.ogg.mp3.\n"
     ]
    }
   ],
   "source": [
    "from google.cloud import storage\n",
    "\n",
    "\n",
    "def upload_blob(bucket_name, source_file_name, destination_blob_name):\n",
    "    \"\"\"Uploads a file to the bucket.\"\"\"\n",
    "    # bucket_name = \"your-bucket-name\"\n",
    "    # source_file_name = \"local/path/to/file\"\n",
    "    # destination_blob_name = \"storage-object-name\"\n",
    "\n",
    "    storage_client = storage.Client()\n",
    "    bucket = storage_client.bucket(bucket_name)\n",
    "    blob = bucket.blob(destination_blob_name)\n",
    "\n",
    "    blob.upload_from_filename(source_file_name)\n",
    "\n",
    "    print(\n",
    "        \"File {} uploaded to {}.\".format(\n",
    "            source_file_name, destination_blob_name\n",
    "        )\n",
    "    )\n",
    "upload_blob(bucket_name, \"Armstrong_Small_Step.ogg.mp3\", \"Armstrong_Small_Step.ogg.mp3\")"
   ]
  },
  {
   "cell_type": "code",
   "execution_count": 68,
   "id": "missing-coordinator",
   "metadata": {},
   "outputs": [
    {
     "name": "stdout",
     "output_type": "stream",
     "text": [
      "\n",
      "\n",
      "Updates are available for some Cloud SDK components.  To install them,\n",
      "please run:\n",
      "  $ gcloud components update\n",
      "\n",
      "gs://test-bucket-speech-n/Armstrong_Small_Step.ogg.mp3\n"
     ]
    }
   ],
   "source": [
    "!gsutil ls gs://test-bucket-speech-n"
   ]
  },
  {
   "cell_type": "code",
   "execution_count": 73,
   "id": "fixed-horizontal",
   "metadata": {
    "tags": []
   },
   "outputs": [
    {
     "name": "stdout",
     "output_type": "stream",
     "text": [
      "results {\n",
      "  alternatives {\n",
      "    transcript: \"step off the Lem now\"\n",
      "    confidence: 0.8174150586128235\n",
      "  }\n",
      "  language_code: \"en-us\"\n",
      "}\n",
      "results {\n",
      "  alternatives {\n",
      "    transcript: \" that\\'s one small step for man\"\n",
      "    confidence: 0.8332863450050354\n",
      "  }\n",
      "  language_code: \"en-us\"\n",
      "}\n",
      "results {\n",
      "  alternatives {\n",
      "    transcript: \" one giant leap for mankind\"\n",
      "    confidence: 0.9128385782241821\n",
      "  }\n",
      "  language_code: \"en-us\"\n",
      "}\n",
      "\n",
      "Transcript: step off the Lem now\n",
      "Transcript:  that's one small step for man\n",
      "Transcript:  one giant leap for mankind\n"
     ]
    }
   ],
   "source": [
    "from google.cloud import speech_v1p1beta1 as speech\n",
    "\n",
    "\n",
    "def sample_recognize(storage_uri):\n",
    "    \"\"\"\n",
    "    Performs synchronous speech recognition on an audio file\n",
    "\n",
    "    Args:\n",
    "      storage_uri URI for audio file in Cloud Storage, e.g. gs://[BUCKET]/[FILE]\n",
    "    \"\"\"\n",
    "\n",
    "    client = speech.SpeechClient()\n",
    "\n",
    "    storage_uri = 'gs://test-bucket-speech-n/Armstrong_Small_Step.ogg.mp3'\n",
    "\n",
    "    # The language of the supplied audio\n",
    "    language_code = \"en-US\"\n",
    "\n",
    "    # Sample rate in Hertz of the audio data sent\n",
    "    sample_rate_hertz = 44100\n",
    "\n",
    "    # Encoding of audio data sent. This sample sets this explicitly.\n",
    "    # This field is optional for FLAC and WAV audio formats.\n",
    "    encoding = speech.RecognitionConfig.AudioEncoding.MP3\n",
    "    config = {\n",
    "        \"language_code\": language_code,\n",
    "        \"sample_rate_hertz\": sample_rate_hertz,\n",
    "        \"encoding\": encoding,\n",
    "        \"model\": \"video\"\n",
    "    }\n",
    "    audio = {\"uri\": storage_uri}\n",
    "\n",
    "    response = client.recognize(config=config, audio=audio)\n",
    "    print(response)\n",
    "    for result in response.results:\n",
    "        # First alternative is the most probable result\n",
    "        alternative = result.alternatives[0]\n",
    "        print(u\"Transcript: {}\".format(alternative.transcript))\n",
    "        \n",
    "sample_recognize(\"Armstrong_Small_Step.ogg.mp3\")"
   ]
  },
  {
   "cell_type": "code",
   "execution_count": null,
   "id": "reduced-minister",
   "metadata": {},
   "outputs": [],
   "source": []
  }
 ],
 "metadata": {
  "kernelspec": {
   "display_name": "Python 3",
   "language": "python",
   "name": "python3"
  },
  "language_info": {
   "codemirror_mode": {
    "name": "ipython",
    "version": 3
   },
   "file_extension": ".py",
   "mimetype": "text/x-python",
   "name": "python",
   "nbconvert_exporter": "python",
   "pygments_lexer": "ipython3",
   "version": "3.8.2"
  }
 },
 "nbformat": 4,
 "nbformat_minor": 5
}
